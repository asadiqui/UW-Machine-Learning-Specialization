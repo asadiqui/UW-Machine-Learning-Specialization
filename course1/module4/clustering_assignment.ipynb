{
 "cells": [
  {
   "cell_type": "code",
   "execution_count": 1,
   "id": "03306eba-e755-4754-8f34-4daf40c9b438",
   "metadata": {},
   "outputs": [],
   "source": [
    "# Initilization\n",
    "import turicreate as tc\n",
    "people = tc.SFrame('../../data/people_wiki.sframe/')"
   ]
  },
  {
   "cell_type": "code",
   "execution_count": 4,
   "id": "2dff060c-9fa8-4daf-b220-0ba1c4ad2655",
   "metadata": {},
   "outputs": [],
   "source": [
    "# adding word_count column\n",
    "people['word_count'] = tc.text_analytics.count_words(people['text'])\n",
    "# adding tfidf column\n",
    "people['tfidf'] = tc.text_analytics.tf_idf(people['text'])"
   ]
  },
  {
   "cell_type": "markdown",
   "id": "677eddf8-4ed1-4a26-ae9a-6b4a183930fa",
   "metadata": {},
   "source": [
    "# Compare top words according to word counts and to TF-IDF"
   ]
  },
  {
   "cell_type": "code",
   "execution_count": 17,
   "id": "7550c671-a6cf-44c5-9abd-f678724db403",
   "metadata": {},
   "outputs": [
    {
     "name": "stdout",
     "output_type": "stream",
     "text": [
      "+------+-------+\n",
      "| word | count |\n",
      "+------+-------+\n",
      "| the  |  27.0 |\n",
      "|  in  |  18.0 |\n",
      "| and  |  15.0 |\n",
      "+------+-------+\n",
      "[255 rows x 2 columns]\n",
      "\n",
      "+-----------+--------------------+\n",
      "|    word   |       tfidf        |\n",
      "+-----------+--------------------+\n",
      "|  furnish  | 18.38947183999428  |\n",
      "|   elton   | 17.482320270031995 |\n",
      "| billboard | 17.30368095754203  |\n",
      "+-----------+--------------------+\n",
      "[255 rows x 2 columns]\n",
      "\n"
     ]
    }
   ],
   "source": [
    "# singling out Elton John\n",
    "elton = people[people['name'] == 'Elton John']\n",
    "# 3 words with the highest word counts\n",
    "elton[['word_count']].stack('word_count',new_column_name=['word','count']).sort('count',ascending=False).print_rows(num_rows=3)\n",
    "# 3 words with the highest tf-idf\n",
    "elton[['tfidf']].stack('tfidf',new_column_name=['word','tfidf']).sort('tfidf',ascending=False).print_rows(num_rows=3)"
   ]
  },
  {
   "cell_type": "markdown",
   "id": "cdd0ac79-3c6b-453b-a89d-624118eab1ed",
   "metadata": {},
   "source": [
    "# Measuring distance"
   ]
  },
  {
   "cell_type": "code",
   "execution_count": 33,
   "id": "d54d582e-b61b-4a70-813e-ca4a50398c0a",
   "metadata": {},
   "outputs": [
    {
     "name": "stdout",
     "output_type": "stream",
     "text": [
      "Elton-Beckham\t: 0.9567006376655429\n",
      "Elton-MaCartney\t: 0.8250310029221779\n"
     ]
    }
   ],
   "source": [
    "# the cosine distance between the articles on ‘Elton John’ and ‘Victoria Beckham’\n",
    "beckham = people[people['name'] == 'Victoria Beckham']\n",
    "print ('Elton-Beckham\\t:', tc.distances.cosine(elton['tfidf'][0],beckham['tfidf'][0]))\n",
    "# the cosine distance between the articles on ‘Elton John’ and 'Paul McCartney’\n",
    "macartney = people[people['name'] == 'Paul McCartney']\n",
    "print ('Elton-MaCartney\\t:', tc.distances.cosine(elton['tfidf'][0],macartney['tfidf'][0]))"
   ]
  },
  {
   "cell_type": "markdown",
   "id": "5d1360fc-5e4d-42ac-a1d0-aca420efc9bd",
   "metadata": {},
   "source": [
    "# Building nearest neighbors models with different input features and setting the distance metric"
   ]
  },
  {
   "cell_type": "code",
   "execution_count": 34,
   "id": "05ee21b5-4333-4c09-a3ae-c82fedb81898",
   "metadata": {
    "scrolled": true
   },
   "outputs": [
    {
     "data": {
      "text/html": [
       "<pre>Starting brute force nearest neighbors model training.</pre>"
      ],
      "text/plain": [
       "Starting brute force nearest neighbors model training."
      ]
     },
     "metadata": {},
     "output_type": "display_data"
    },
    {
     "data": {
      "text/html": [
       "<pre>Validating distance components.</pre>"
      ],
      "text/plain": [
       "Validating distance components."
      ]
     },
     "metadata": {},
     "output_type": "display_data"
    },
    {
     "data": {
      "text/html": [
       "<pre>Initializing model data.</pre>"
      ],
      "text/plain": [
       "Initializing model data."
      ]
     },
     "metadata": {},
     "output_type": "display_data"
    },
    {
     "data": {
      "text/html": [
       "<pre>Initializing distances.</pre>"
      ],
      "text/plain": [
       "Initializing distances."
      ]
     },
     "metadata": {},
     "output_type": "display_data"
    },
    {
     "data": {
      "text/html": [
       "<pre>Done.</pre>"
      ],
      "text/plain": [
       "Done."
      ]
     },
     "metadata": {},
     "output_type": "display_data"
    },
    {
     "data": {
      "text/html": [
       "<pre>Starting brute force nearest neighbors model training.</pre>"
      ],
      "text/plain": [
       "Starting brute force nearest neighbors model training."
      ]
     },
     "metadata": {},
     "output_type": "display_data"
    },
    {
     "data": {
      "text/html": [
       "<pre>Validating distance components.</pre>"
      ],
      "text/plain": [
       "Validating distance components."
      ]
     },
     "metadata": {},
     "output_type": "display_data"
    },
    {
     "data": {
      "text/html": [
       "<pre>Initializing model data.</pre>"
      ],
      "text/plain": [
       "Initializing model data."
      ]
     },
     "metadata": {},
     "output_type": "display_data"
    },
    {
     "data": {
      "text/html": [
       "<pre>Initializing distances.</pre>"
      ],
      "text/plain": [
       "Initializing distances."
      ]
     },
     "metadata": {},
     "output_type": "display_data"
    },
    {
     "data": {
      "text/html": [
       "<pre>Done.</pre>"
      ],
      "text/plain": [
       "Done."
      ]
     },
     "metadata": {},
     "output_type": "display_data"
    }
   ],
   "source": [
    "# nearest neighbors models using word counts as feature\n",
    "tfidf_model = tc.nearest_neighbors.create(people,features=['tfidf'],label='name',distance='cosine')\n",
    "# nearest neighbors models using tf-idf as feature\n",
    "wc_model = tc.nearest_neighbors.create(people,features=['word_count'],label='name',distance='cosine')"
   ]
  },
  {
   "cell_type": "code",
   "execution_count": 35,
   "id": "5d34ebce-d649-4989-9b19-0a7e53f1c9bc",
   "metadata": {
    "scrolled": true
   },
   "outputs": [
    {
     "data": {
      "text/html": [
       "<pre>Starting pairwise querying.</pre>"
      ],
      "text/plain": [
       "Starting pairwise querying."
      ]
     },
     "metadata": {},
     "output_type": "display_data"
    },
    {
     "data": {
      "text/html": [
       "<pre>+--------------+---------+-------------+--------------+</pre>"
      ],
      "text/plain": [
       "+--------------+---------+-------------+--------------+"
      ]
     },
     "metadata": {},
     "output_type": "display_data"
    },
    {
     "data": {
      "text/html": [
       "<pre>| Query points | # Pairs | % Complete. | Elapsed Time |</pre>"
      ],
      "text/plain": [
       "| Query points | # Pairs | % Complete. | Elapsed Time |"
      ]
     },
     "metadata": {},
     "output_type": "display_data"
    },
    {
     "data": {
      "text/html": [
       "<pre>+--------------+---------+-------------+--------------+</pre>"
      ],
      "text/plain": [
       "+--------------+---------+-------------+--------------+"
      ]
     },
     "metadata": {},
     "output_type": "display_data"
    },
    {
     "data": {
      "text/html": [
       "<pre>| 0            | 1       | 0.00169288  | 3.95ms       |</pre>"
      ],
      "text/plain": [
       "| 0            | 1       | 0.00169288  | 3.95ms       |"
      ]
     },
     "metadata": {},
     "output_type": "display_data"
    },
    {
     "data": {
      "text/html": [
       "<pre>| Done         |         | 100         | 92.441ms     |</pre>"
      ],
      "text/plain": [
       "| Done         |         | 100         | 92.441ms     |"
      ]
     },
     "metadata": {},
     "output_type": "display_data"
    },
    {
     "data": {
      "text/html": [
       "<pre>+--------------+---------+-------------+--------------+</pre>"
      ],
      "text/plain": [
       "+--------------+---------+-------------+--------------+"
      ]
     },
     "metadata": {},
     "output_type": "display_data"
    },
    {
     "data": {
      "text/html": [
       "<pre>Starting pairwise querying.</pre>"
      ],
      "text/plain": [
       "Starting pairwise querying."
      ]
     },
     "metadata": {},
     "output_type": "display_data"
    },
    {
     "data": {
      "text/html": [
       "<pre>+--------------+---------+-------------+--------------+</pre>"
      ],
      "text/plain": [
       "+--------------+---------+-------------+--------------+"
      ]
     },
     "metadata": {},
     "output_type": "display_data"
    },
    {
     "data": {
      "text/html": [
       "<pre>| Query points | # Pairs | % Complete. | Elapsed Time |</pre>"
      ],
      "text/plain": [
       "| Query points | # Pairs | % Complete. | Elapsed Time |"
      ]
     },
     "metadata": {},
     "output_type": "display_data"
    },
    {
     "data": {
      "text/html": [
       "<pre>+--------------+---------+-------------+--------------+</pre>"
      ],
      "text/plain": [
       "+--------------+---------+-------------+--------------+"
      ]
     },
     "metadata": {},
     "output_type": "display_data"
    },
    {
     "data": {
      "text/html": [
       "<pre>| 0            | 1       | 0.00169288  | 4.476ms      |</pre>"
      ],
      "text/plain": [
       "| 0            | 1       | 0.00169288  | 4.476ms      |"
      ]
     },
     "metadata": {},
     "output_type": "display_data"
    },
    {
     "data": {
      "text/html": [
       "<pre>| Done         |         | 100         | 81.786ms     |</pre>"
      ],
      "text/plain": [
       "| Done         |         | 100         | 81.786ms     |"
      ]
     },
     "metadata": {},
     "output_type": "display_data"
    },
    {
     "data": {
      "text/html": [
       "<pre>+--------------+---------+-------------+--------------+</pre>"
      ],
      "text/plain": [
       "+--------------+---------+-------------+--------------+"
      ]
     },
     "metadata": {},
     "output_type": "display_data"
    },
    {
     "data": {
      "text/html": [
       "<pre>Starting pairwise querying.</pre>"
      ],
      "text/plain": [
       "Starting pairwise querying."
      ]
     },
     "metadata": {},
     "output_type": "display_data"
    },
    {
     "data": {
      "text/html": [
       "<pre>+--------------+---------+-------------+--------------+</pre>"
      ],
      "text/plain": [
       "+--------------+---------+-------------+--------------+"
      ]
     },
     "metadata": {},
     "output_type": "display_data"
    },
    {
     "data": {
      "text/html": [
       "<pre>| Query points | # Pairs | % Complete. | Elapsed Time |</pre>"
      ],
      "text/plain": [
       "| Query points | # Pairs | % Complete. | Elapsed Time |"
      ]
     },
     "metadata": {},
     "output_type": "display_data"
    },
    {
     "data": {
      "text/html": [
       "<pre>+--------------+---------+-------------+--------------+</pre>"
      ],
      "text/plain": [
       "+--------------+---------+-------------+--------------+"
      ]
     },
     "metadata": {},
     "output_type": "display_data"
    },
    {
     "data": {
      "text/html": [
       "<pre>| 0            | 1       | 0.00169288  | 2.563ms      |</pre>"
      ],
      "text/plain": [
       "| 0            | 1       | 0.00169288  | 2.563ms      |"
      ]
     },
     "metadata": {},
     "output_type": "display_data"
    },
    {
     "data": {
      "text/html": [
       "<pre>| Done         |         | 100         | 68.398ms     |</pre>"
      ],
      "text/plain": [
       "| Done         |         | 100         | 68.398ms     |"
      ]
     },
     "metadata": {},
     "output_type": "display_data"
    },
    {
     "data": {
      "text/html": [
       "<pre>+--------------+---------+-------------+--------------+</pre>"
      ],
      "text/plain": [
       "+--------------+---------+-------------+--------------+"
      ]
     },
     "metadata": {},
     "output_type": "display_data"
    },
    {
     "data": {
      "text/html": [
       "<pre>Starting pairwise querying.</pre>"
      ],
      "text/plain": [
       "Starting pairwise querying."
      ]
     },
     "metadata": {},
     "output_type": "display_data"
    },
    {
     "data": {
      "text/html": [
       "<pre>+--------------+---------+-------------+--------------+</pre>"
      ],
      "text/plain": [
       "+--------------+---------+-------------+--------------+"
      ]
     },
     "metadata": {},
     "output_type": "display_data"
    },
    {
     "data": {
      "text/html": [
       "<pre>| Query points | # Pairs | % Complete. | Elapsed Time |</pre>"
      ],
      "text/plain": [
       "| Query points | # Pairs | % Complete. | Elapsed Time |"
      ]
     },
     "metadata": {},
     "output_type": "display_data"
    },
    {
     "data": {
      "text/html": [
       "<pre>+--------------+---------+-------------+--------------+</pre>"
      ],
      "text/plain": [
       "+--------------+---------+-------------+--------------+"
      ]
     },
     "metadata": {},
     "output_type": "display_data"
    },
    {
     "data": {
      "text/html": [
       "<pre>| 0            | 1       | 0.00169288  | 4.42ms       |</pre>"
      ],
      "text/plain": [
       "| 0            | 1       | 0.00169288  | 4.42ms       |"
      ]
     },
     "metadata": {},
     "output_type": "display_data"
    },
    {
     "data": {
      "text/html": [
       "<pre>| Done         |         | 100         | 77.132ms     |</pre>"
      ],
      "text/plain": [
       "| Done         |         | 100         | 77.132ms     |"
      ]
     },
     "metadata": {},
     "output_type": "display_data"
    },
    {
     "data": {
      "text/html": [
       "<pre>+--------------+---------+-------------+--------------+</pre>"
      ],
      "text/plain": [
       "+--------------+---------+-------------+--------------+"
      ]
     },
     "metadata": {},
     "output_type": "display_data"
    }
   ],
   "source": [
    "closest_to_elton_using_wc = wc_model.query(elton)[1]['reference_label']\n",
    "closest_to_elton_using_tfidf = tfidf_model.query(elton)[1]['reference_label']\n",
    "closest_to_beckham_using_wc = wc_model.query(beckham)[1]['reference_label']\n",
    "closest_to_beckham_using_tfidf = tfidf_model.query(beckham)[1]['reference_label']"
   ]
  },
  {
   "cell_type": "code",
   "execution_count": 37,
   "id": "3ae6a1aa-2830-490c-aa32-b48033463ff8",
   "metadata": {},
   "outputs": [
    {
     "name": "stdout",
     "output_type": "stream",
     "text": [
      "closest_to_elton_using_wc\t: Cliff Richard\n",
      "closest_to_elton_using_tfidf\t: Rod Stewart\n",
      "closest_to_beckham_using_wc\t: Mary Fitzgerald (artist)\n",
      "closest_to_beckham_using_tfidf\t: David Beckham\n"
     ]
    }
   ],
   "source": [
    "print ('closest_to_elton_using_wc\\t:', closest_to_elton_using_wc)\n",
    "print ('closest_to_elton_using_tfidf\\t:', closest_to_elton_using_tfidf)\n",
    "print ('closest_to_beckham_using_wc\\t:', closest_to_beckham_using_wc)\n",
    "print ('closest_to_beckham_using_tfidf\\t:', closest_to_beckham_using_tfidf)"
   ]
  }
 ],
 "metadata": {
  "kernelspec": {
   "display_name": "Python 3 (ipykernel)",
   "language": "python",
   "name": "python3"
  },
  "language_info": {
   "codemirror_mode": {
    "name": "ipython",
    "version": 3
   },
   "file_extension": ".py",
   "mimetype": "text/x-python",
   "name": "python",
   "nbconvert_exporter": "python",
   "pygments_lexer": "ipython3",
   "version": "3.8.20"
  }
 },
 "nbformat": 4,
 "nbformat_minor": 5
}
