{
 "cells": [
  {
   "cell_type": "code",
   "execution_count": 75,
   "id": "c637c193-785a-4601-8ac8-aeebfb0335c0",
   "metadata": {},
   "outputs": [],
   "source": [
    "import turicreate as tc\n",
    "data = tc.SFrame('home_data.sframe')"
   ]
  },
  {
   "cell_type": "markdown",
   "id": "ab21ae6b-04c2-4cf9-99b5-d25afb041ac7",
   "metadata": {},
   "source": [
    "# Selection and summary statistics"
   ]
  },
  {
   "cell_type": "markdown",
   "id": "64da794e-118a-4c01-86a5-6d7b985502df",
   "metadata": {},
   "source": [
    "In the notebook we covered in the module, we discovered which neighborhood (zip code) of Seattle had the highest average house sale price.\n",
    "\n",
    "Now, take the sales data, select only the houses with this zip code, and compute the average price."
   ]
  },
  {
   "cell_type": "code",
   "execution_count": 90,
   "id": "67aaf268-0086-4708-8dc9-ca2ba65d293c",
   "metadata": {},
   "outputs": [
    {
     "name": "stdout",
     "output_type": "stream",
     "text": [
      "98039\n"
     ]
    },
    {
     "data": {
      "text/plain": [
       "2160606.5999999996"
      ]
     },
     "execution_count": 90,
     "metadata": {},
     "output_type": "execute_result"
    }
   ],
   "source": [
    "# group by zipcode to calculate the one with higest avg_price\n",
    "zip_avg = data.groupby('zipcode', {'avg_price': tc.aggregate.MEAN('price')})\n",
    "highest = zip_avg.sort('avg_price', ascending=False).head(1)['zipcode'][0]\n",
    "print(highest)\n",
    "\n",
    "# show the mean price there\n",
    "data[data['zipcode'] == highest]['price'].mean()"
   ]
  },
  {
   "cell_type": "markdown",
   "id": "c25f5ed3-2394-405e-ae53-611d90bc5571",
   "metadata": {},
   "source": [
    "# Filtering data"
   ]
  },
  {
   "cell_type": "markdown",
   "id": "492e5ddd-6138-42ef-a21b-e0218b485c34",
   "metadata": {},
   "source": [
    "One of the key features we used in our model was the number of square feet of living space (‘sqft_living’) in the house.\n",
    "\n",
    "For this part, we are going to use the idea of filtering (selecting) data.\n",
    "\n",
    "Using such filters, first select the houses that have ‘sqft_living’ higher than 2000 sqft but no larger than 4000 sqft.\n",
    "\n",
    "What fraction of the all houses have ‘sqft_living’ in this range?"
   ]
  },
  {
   "cell_type": "code",
   "execution_count": 94,
   "id": "4729fcd1-3dd3-4862-8f25-5f486d59dbbf",
   "metadata": {},
   "outputs": [
    {
     "name": "stdout",
     "output_type": "stream",
     "text": [
      "0.4266413732475825\n"
     ]
    }
   ],
   "source": [
    "filtered = data[(data['sqft_living'] >= 2000) & (data['sqft_living'] <= 4000)]\n",
    "fraction = len(filtered) / len(data)\n",
    "print (fraction)"
   ]
  },
  {
   "cell_type": "markdown",
   "id": "fd6d8498-9cee-43c5-9b20-8b9e3e87428c",
   "metadata": {},
   "source": [
    "# Building a regression model with several more features"
   ]
  },
  {
   "cell_type": "markdown",
   "id": "8ab9c4fa-f214-4fc6-b6ce-8fb7314593bf",
   "metadata": {},
   "source": [
    "In the sample notebook, we built two regression models to predict house prices, one using just ‘sqft_living’ and the other one using a few more features:"
   ]
  },
  {
   "cell_type": "code",
   "execution_count": 96,
   "id": "9c202f90-ba8c-4439-b7bb-737c0088daab",
   "metadata": {},
   "outputs": [],
   "source": [
    "my_features = ['bedrooms', 'bathrooms', 'sqft_living', 'sqft_lot', 'floors', 'zipcode']"
   ]
  },
  {
   "cell_type": "markdown",
   "id": "1a49f638-ad2e-47da-9412-3eb75d54dcd0",
   "metadata": {},
   "source": [
    "Now, going back to the original dataset, you will build a model using the following features:"
   ]
  },
  {
   "cell_type": "code",
   "execution_count": 97,
   "id": "eadc3558-2907-41c7-9866-6f0083ce66d1",
   "metadata": {},
   "outputs": [],
   "source": [
    "advanced_features = [\n",
    "'bedrooms', 'bathrooms', 'sqft_living', 'sqft_lot', 'floors', 'zipcode',\n",
    "'condition', # condition of house\t\t\t\t\n",
    "'grade', # measure of quality of construction\t\t\t\t\n",
    "'waterfront', # waterfront property\t\t\t\t\n",
    "'view', # type of view\t\t\t\t\n",
    "'sqft_above', # square feet above ground\t\t\t\t\n",
    "'sqft_basement', # square feet in basement\t\t\t\t\n",
    "'yr_built', # the year built\t\t\t\t\n",
    "'yr_renovated', # the year renovated\t\t\t\t\n",
    "'lat', 'long', # the lat-long of the parcel\t\t\t\t\n",
    "'sqft_living15', # average sq.ft. of 15 nearest neighbors \t\t\t\t\n",
    "'sqft_lot15', # average lot size of 15 nearest neighbors \n",
    "]"
   ]
  },
  {
   "cell_type": "code",
   "execution_count": 134,
   "id": "2847126a-2cf0-4438-b9ee-04801abd77c4",
   "metadata": {
    "scrolled": true
   },
   "outputs": [
    {
     "data": {
      "text/html": [
       "<pre>Linear regression:</pre>"
      ],
      "text/plain": [
       "Linear regression:"
      ]
     },
     "metadata": {},
     "output_type": "display_data"
    },
    {
     "data": {
      "text/html": [
       "<pre>--------------------------------------------------------</pre>"
      ],
      "text/plain": [
       "--------------------------------------------------------"
      ]
     },
     "metadata": {},
     "output_type": "display_data"
    },
    {
     "data": {
      "text/html": [
       "<pre>Number of examples          : 17384</pre>"
      ],
      "text/plain": [
       "Number of examples          : 17384"
      ]
     },
     "metadata": {},
     "output_type": "display_data"
    },
    {
     "data": {
      "text/html": [
       "<pre>Number of features          : 6</pre>"
      ],
      "text/plain": [
       "Number of features          : 6"
      ]
     },
     "metadata": {},
     "output_type": "display_data"
    },
    {
     "data": {
      "text/html": [
       "<pre>Number of unpacked features : 6</pre>"
      ],
      "text/plain": [
       "Number of unpacked features : 6"
      ]
     },
     "metadata": {},
     "output_type": "display_data"
    },
    {
     "data": {
      "text/html": [
       "<pre>Number of coefficients    : 75</pre>"
      ],
      "text/plain": [
       "Number of coefficients    : 75"
      ]
     },
     "metadata": {},
     "output_type": "display_data"
    },
    {
     "data": {
      "text/html": [
       "<pre>Starting Newton Method</pre>"
      ],
      "text/plain": [
       "Starting Newton Method"
      ]
     },
     "metadata": {},
     "output_type": "display_data"
    },
    {
     "data": {
      "text/html": [
       "<pre>--------------------------------------------------------</pre>"
      ],
      "text/plain": [
       "--------------------------------------------------------"
      ]
     },
     "metadata": {},
     "output_type": "display_data"
    },
    {
     "data": {
      "text/html": [
       "<pre>+-----------+----------+--------------+--------------------+---------------------------------+</pre>"
      ],
      "text/plain": [
       "+-----------+----------+--------------+--------------------+---------------------------------+"
      ]
     },
     "metadata": {},
     "output_type": "display_data"
    },
    {
     "data": {
      "text/html": [
       "<pre>| Iteration | Passes   | Elapsed Time | Training Max Error | Training Root-Mean-Square Error |</pre>"
      ],
      "text/plain": [
       "| Iteration | Passes   | Elapsed Time | Training Max Error | Training Root-Mean-Square Error |"
      ]
     },
     "metadata": {},
     "output_type": "display_data"
    },
    {
     "data": {
      "text/html": [
       "<pre>+-----------+----------+--------------+--------------------+---------------------------------+</pre>"
      ],
      "text/plain": [
       "+-----------+----------+--------------+--------------------+---------------------------------+"
      ]
     },
     "metadata": {},
     "output_type": "display_data"
    },
    {
     "data": {
      "text/html": [
       "<pre>| 1         | 2        | 0.034733     | 4086543.315840     | 189216.804808                   |</pre>"
      ],
      "text/plain": [
       "| 1         | 2        | 0.034733     | 4086543.315840     | 189216.804808                   |"
      ]
     },
     "metadata": {},
     "output_type": "display_data"
    },
    {
     "data": {
      "text/html": [
       "<pre>+-----------+----------+--------------+--------------------+---------------------------------+</pre>"
      ],
      "text/plain": [
       "+-----------+----------+--------------+--------------------+---------------------------------+"
      ]
     },
     "metadata": {},
     "output_type": "display_data"
    },
    {
     "data": {
      "text/html": [
       "<pre>SUCCESS: Optimal solution found.</pre>"
      ],
      "text/plain": [
       "SUCCESS: Optimal solution found."
      ]
     },
     "metadata": {},
     "output_type": "display_data"
    },
    {
     "data": {
      "text/html": [
       "<pre></pre>"
      ],
      "text/plain": []
     },
     "metadata": {},
     "output_type": "display_data"
    },
    {
     "data": {
      "text/html": [
       "<pre>Linear regression:</pre>"
      ],
      "text/plain": [
       "Linear regression:"
      ]
     },
     "metadata": {},
     "output_type": "display_data"
    },
    {
     "data": {
      "text/html": [
       "<pre>--------------------------------------------------------</pre>"
      ],
      "text/plain": [
       "--------------------------------------------------------"
      ]
     },
     "metadata": {},
     "output_type": "display_data"
    },
    {
     "data": {
      "text/html": [
       "<pre>Number of examples          : 17384</pre>"
      ],
      "text/plain": [
       "Number of examples          : 17384"
      ]
     },
     "metadata": {},
     "output_type": "display_data"
    },
    {
     "data": {
      "text/html": [
       "<pre>Number of features          : 18</pre>"
      ],
      "text/plain": [
       "Number of features          : 18"
      ]
     },
     "metadata": {},
     "output_type": "display_data"
    },
    {
     "data": {
      "text/html": [
       "<pre>Number of unpacked features : 18</pre>"
      ],
      "text/plain": [
       "Number of unpacked features : 18"
      ]
     },
     "metadata": {},
     "output_type": "display_data"
    },
    {
     "data": {
      "text/html": [
       "<pre>Number of coefficients    : 87</pre>"
      ],
      "text/plain": [
       "Number of coefficients    : 87"
      ]
     },
     "metadata": {},
     "output_type": "display_data"
    },
    {
     "data": {
      "text/html": [
       "<pre>Starting Newton Method</pre>"
      ],
      "text/plain": [
       "Starting Newton Method"
      ]
     },
     "metadata": {},
     "output_type": "display_data"
    },
    {
     "data": {
      "text/html": [
       "<pre>--------------------------------------------------------</pre>"
      ],
      "text/plain": [
       "--------------------------------------------------------"
      ]
     },
     "metadata": {},
     "output_type": "display_data"
    },
    {
     "data": {
      "text/html": [
       "<pre>+-----------+----------+--------------+--------------------+---------------------------------+</pre>"
      ],
      "text/plain": [
       "+-----------+----------+--------------+--------------------+---------------------------------+"
      ]
     },
     "metadata": {},
     "output_type": "display_data"
    },
    {
     "data": {
      "text/html": [
       "<pre>| Iteration | Passes   | Elapsed Time | Training Max Error | Training Root-Mean-Square Error |</pre>"
      ],
      "text/plain": [
       "| Iteration | Passes   | Elapsed Time | Training Max Error | Training Root-Mean-Square Error |"
      ]
     },
     "metadata": {},
     "output_type": "display_data"
    },
    {
     "data": {
      "text/html": [
       "<pre>+-----------+----------+--------------+--------------------+---------------------------------+</pre>"
      ],
      "text/plain": [
       "+-----------+----------+--------------+--------------------+---------------------------------+"
      ]
     },
     "metadata": {},
     "output_type": "display_data"
    },
    {
     "data": {
      "text/html": [
       "<pre>| 1         | 2        | 0.010623     | 4336058.938761     | 162392.982702                   |</pre>"
      ],
      "text/plain": [
       "| 1         | 2        | 0.010623     | 4336058.938761     | 162392.982702                   |"
      ]
     },
     "metadata": {},
     "output_type": "display_data"
    },
    {
     "data": {
      "text/html": [
       "<pre>+-----------+----------+--------------+--------------------+---------------------------------+</pre>"
      ],
      "text/plain": [
       "+-----------+----------+--------------+--------------------+---------------------------------+"
      ]
     },
     "metadata": {},
     "output_type": "display_data"
    },
    {
     "data": {
      "text/html": [
       "<pre>SUCCESS: Optimal solution found.</pre>"
      ],
      "text/plain": [
       "SUCCESS: Optimal solution found."
      ]
     },
     "metadata": {},
     "output_type": "display_data"
    },
    {
     "data": {
      "text/html": [
       "<pre></pre>"
      ],
      "text/plain": []
     },
     "metadata": {},
     "output_type": "display_data"
    }
   ],
   "source": [
    "# train-test split, seed=0, validation_set=None\n",
    "training_set, test_set = data.random_split(.8, seed=0)\n",
    "simple_model = tc.linear_regression.create(training_set, features=my_features, target='price', validation_set=None)\n",
    "advanced_model = tc.linear_regression.create(training_set, features=advanced_features, target='price', validation_set=None)"
   ]
  },
  {
   "cell_type": "code",
   "execution_count": 135,
   "id": "abc33135-dc33-4d15-82bc-5450b2ae91de",
   "metadata": {},
   "outputs": [
    {
     "name": "stdout",
     "output_type": "stream",
     "text": [
      "{'max_error': 3152242.7848689086, 'rmse': 180439.0729664085}\n",
      "{'max_error': 3170363.181385746, 'rmse': 155269.65792807937}\n",
      "Difference in RMSE between the model trained with my_features and the one trained with advanced_features\n",
      "25169.41503832914\n"
     ]
    }
   ],
   "source": [
    "# evaluating the modules\n",
    "simple_eval = simple_model.evaluate(test_set)\n",
    "advanced_eval = advanced_model.evaluate(test_set)\n",
    "print (simple_eval)\n",
    "print (advanced_eval)\n",
    "print ('Difference in RMSE between the model trained with my_features and the one trained with advanced_features')\n",
    "print (simple_eval['rmse'] - advanced_eval['rmse'])"
   ]
  }
 ],
 "metadata": {
  "kernelspec": {
   "display_name": "Python 3 (ipykernel)",
   "language": "python",
   "name": "python3"
  },
  "language_info": {
   "codemirror_mode": {
    "name": "ipython",
    "version": 3
   },
   "file_extension": ".py",
   "mimetype": "text/x-python",
   "name": "python",
   "nbconvert_exporter": "python",
   "pygments_lexer": "ipython3",
   "version": "3.8.20"
  }
 },
 "nbformat": 4,
 "nbformat_minor": 5
}
